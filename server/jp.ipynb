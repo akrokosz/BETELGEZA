{
 "cells": [
  {
   "cell_type": "code",
   "metadata": {
    "collapsed": true
   },
   "source": [
    "import numpy as np\n",
    "import pandas as pd\n",
    "import yfinance as yf\n",
    "from pkg_resources import find_eggs_in_zip\n",
    "from sklearn.model_selection import TimeSeriesSplit\n",
    "from sklearn.metrics import mean_squared_error\n",
    "import torch"
   ],
   "outputs": [],
   "execution_count": null
  },
  {
   "metadata": {},
   "cell_type": "code",
   "source": "from kan import *",
   "outputs": [],
   "execution_count": null
  },
  {
   "metadata": {},
   "cell_type": "code",
   "source": "device = torch.device('cuda')",
   "outputs": [],
   "execution_count": null
  },
  {
   "metadata": {},
   "cell_type": "code",
   "source": "device",
   "outputs": [],
   "execution_count": null
  },
  {
   "metadata": {},
   "cell_type": "code",
   "source": [
    "ticker = \"^GSPC\"  # S&P 500\n",
    "data = yf.download(ticker, start=\"2010-01-01\", end=\"2023-01-01\")"
   ],
   "outputs": [],
   "execution_count": null
  },
  {
   "metadata": {},
   "cell_type": "code",
   "source": "data",
   "outputs": [],
   "execution_count": null
  },
  {
   "metadata": {},
   "cell_type": "code",
   "source": [
    "data['return'] = data['Adj Close'].pct_change()  #daily returns\n",
    "data['sma_50'] = data['Adj Close'].rolling(window=50).mean()  # 50 day ma\n",
    "data['sma_200'] = data['Adj Close'].rolling(window=200).mean()  # 200 day ma\n",
    "data = data.dropna()"
   ],
   "outputs": [],
   "execution_count": null
  },
  {
   "metadata": {},
   "cell_type": "code",
   "source": [
    "X = data[['return', 'sma_50', 'sma_200']]\n",
    "y = data['Adj Close'].shift(-1)  # next day's closing price"
   ],
   "outputs": [],
   "execution_count": null
  },
  {
   "metadata": {},
   "cell_type": "code",
   "source": [
    "X = X[:-1]\n",
    "y = y[:-1]"
   ],
   "outputs": [],
   "execution_count": null
  },
  {
   "metadata": {},
   "cell_type": "code",
   "source": [
    "splitter = TimeSeriesSplit(n_splits=5)\n",
    "model = LinearRegression()"
   ],
   "outputs": [],
   "execution_count": null
  },
  {
   "metadata": {},
   "cell_type": "code",
   "source": "X",
   "outputs": [],
   "execution_count": null
  },
  {
   "metadata": {},
   "cell_type": "code",
   "source": "y",
   "outputs": [],
   "execution_count": null
  },
  {
   "metadata": {},
   "cell_type": "code",
   "source": [
    "predictions = []\n",
    "actuals = []\n",
    "X_train, y_train, X_test, Y_test = [], [], [], []\n",
    "for train_index, test_index in splitter.split(X):\n",
    "    X_train, X_test = X.iloc[train_index], X.iloc[test_index]\n",
    "    y_train, y_test = y.iloc[train_index], y.iloc[test_index]"
   ],
   "outputs": [],
   "execution_count": null
  },
  {
   "metadata": {},
   "cell_type": "code",
   "source": "import matplotlib.pyplot as plt",
   "outputs": [],
   "execution_count": null
  },
  {
   "metadata": {},
   "cell_type": "code",
   "source": "data.columns",
   "outputs": [],
   "execution_count": null
  },
  {
   "metadata": {},
   "cell_type": "code",
   "source": [
    "fig, axs = plt.subplots(5, 1, figsize=(15, 15), sharex=True)\n",
    "\n",
    "fold = 0\n",
    "data = data.sort_index()\n",
    "for train_idx, val_idx in splitter.split(data):\n",
    "    train, val = data.iloc[train_idx], data.iloc[val_idx]\n",
    "\n",
    "    train['Close'].plot(ax=axs[fold], label='train_set', title=f'Data Split Fold {fold}')\n",
    "    val['Close'].plot(ax=axs[fold], label='test_set')\n",
    "\n",
    "    model.fit(train.drop['Close'], train['Close'] )\n",
    "    y_pred=model.predict(val.drop['Close'])\n",
    "    y_pred.plot(ax=axs[fold], label='predictions')\n",
    "\n",
    "    axs[fold].axvline(val.index.min(), color='black', ls='--')\n",
    "    fold += 1"
   ],
   "outputs": [],
   "execution_count": null
  },
  {
   "metadata": {},
   "cell_type": "code",
   "source": "model.fit(X_train, y_train)",
   "outputs": [],
   "execution_count": null
  },
  {
   "metadata": {},
   "cell_type": "code",
   "source": [
    "y_pred = model.predict(X_test)\n",
    "predictions.extend(y_pred)\n",
    "actuals.extend(y_test.values)\n",
    "mse = mean_squared_error(y_test, y_pred)\n",
    "print(f'Mean Squared Error for fold: {mse}')"
   ],
   "outputs": [],
   "execution_count": null
  },
  {
   "metadata": {},
   "cell_type": "code",
   "source": "actuals",
   "outputs": [],
   "execution_count": null
  },
  {
   "metadata": {},
   "cell_type": "code",
   "source": [
    "plt.figure(figsize=(14, 7))\n",
    "plt.plot(data.index[1:len(actuals) + 1], actuals, label='Actual')\n",
    "plt.plot(data.index[1:len(predictions) + 1], predictions, label='Predicted', linestyle='dashed')\n",
    "plt.xlabel('Date')\n",
    "plt.ylabel('S&P 500 Price')\n",
    "plt.title('S&P 500 Price Prediction')\n",
    "plt.legend()\n",
    "plt.show()"
   ],
   "outputs": [],
   "execution_count": null
  },
  {
   "metadata": {},
   "cell_type": "markdown",
   "source": "TWITTER"
  },
  {
   "metadata": {
    "ExecuteTime": {
     "end_time": "2024-12-05T20:52:44.585790Z",
     "start_time": "2024-12-05T20:52:44.573756Z"
    }
   },
   "cell_type": "code",
   "source": [
    "import tweepy\n",
    "import os\n",
    "from dotenv import load_dotenv\n",
    "dotenv_path = '.env'\n",
    "load_dotenv(dotenv_path)"
   ],
   "outputs": [
    {
     "data": {
      "text/plain": [
       "True"
      ]
     },
     "execution_count": 8,
     "metadata": {},
     "output_type": "execute_result"
    }
   ],
   "execution_count": 8
  },
  {
   "metadata": {
    "ExecuteTime": {
     "end_time": "2024-12-05T20:47:44.026279Z",
     "start_time": "2024-12-05T20:47:44.012281Z"
    }
   },
   "cell_type": "code",
   "source": [
    "auth = tweepy.OAuth1UserHandler(\n",
    "    os.environ.get(\"consumer_key\"), os.environ.get(\"consumer_secret\"), os.environ.get(\"access_token\"), os.environ.get(\"access_token_secret\"))\n",
    "api = tweepy.API(auth)"
   ],
   "outputs": [],
   "execution_count": 6
  },
  {
   "metadata": {},
   "cell_type": "code",
   "outputs": [],
   "execution_count": null,
   "source": "results = api.search_tweets(\"S&P 500\")"
  },
  {
   "metadata": {},
   "cell_type": "markdown",
   "source": "REDDIT"
  },
  {
   "metadata": {
    "ExecuteTime": {
     "end_time": "2024-12-05T20:52:57.730081Z",
     "start_time": "2024-12-05T20:52:57.532969Z"
    }
   },
   "cell_type": "code",
   "source": [
    "import praw\n",
    "reddit = praw.Reddit(client_id=os.environ.get(\"client_id\"), client_secret=os.environ.get(\"client_secret\"), user_agent=os.environ.get(\"user_agent\"))"
   ],
   "outputs": [],
   "execution_count": 10
  },
  {
   "metadata": {},
   "cell_type": "code",
   "source": [
    "subreddit = reddit.subreddit(\"trading\")\n",
    "search_query = \"forex\"\n",
    "for submission in subreddit.search(search_query, sort=\"relevance\", limit=10):\n",
    "    print(f\"Title: {submission.title}\")\n",
    "    print(f\"URL: {submission.url}\")\n",
    "    print(f\"Score: {submission.score}\")\n",
    "    print(f\"Created: {submission.created_utc}\")\n",
    "    print(\"-\" * 40)"
   ],
   "outputs": [],
   "execution_count": null
  },
  {
   "metadata": {},
   "cell_type": "markdown",
   "source": "VADER"
  },
  {
   "metadata": {
    "ExecuteTime": {
     "end_time": "2024-12-05T20:56:40.407725Z",
     "start_time": "2024-12-05T20:56:40.393947Z"
    }
   },
   "cell_type": "code",
   "source": "from vaderSentiment.vaderSentiment import SentimentIntensityAnalyzer",
   "outputs": [],
   "execution_count": 18
  },
  {
   "metadata": {
    "ExecuteTime": {
     "end_time": "2024-12-05T20:54:34.363832Z",
     "start_time": "2024-12-05T20:54:34.349956Z"
    }
   },
   "cell_type": "code",
   "source": [
    "import pandas as pd\n",
    "df = pd.DataFrame({\"tweets\": [\n",
    "    \"Forex trading tips: Always set stop-loss levels to manage risks.\",\n",
    "    \"Looking to diversify your portfolio? Forex could be an option.\",\n",
    "    \"Today's forex analysis: USD/EUR shows bullish trends. Stay tuned!\",\n",
    "    \"Beginner's guide to forex: Start small, learn trends, and avoid greed.\",\n",
    "    \"Forex insight: The impact of interest rate hikes on currency pairs.\",\n",
    "    \"Why forex trading requires discipline and strategy.\",\n",
    "    \"Top 5 forex pairs to watch this week: USD/EUR, GBP/USD, and more.\",\n",
    "    \"Forex myths debunked: It's not a get-rich-quick scheme!\",\n",
    "    \"Master forex trading by understanding economic indicators.\",\n",
    "    \"Daily forex update: Volatility expected in GBP/USD due to market news.\"]\n",
    "})"
   ],
   "outputs": [],
   "execution_count": 15
  },
  {
   "metadata": {
    "ExecuteTime": {
     "end_time": "2024-12-05T20:59:31.303647Z",
     "start_time": "2024-12-05T20:59:31.278390Z"
    }
   },
   "cell_type": "code",
   "source": [
    "analyzer = SentimentIntensityAnalyzer()\n",
    "for sentence in df['tweets']:\n",
    "    vs = analyzer.polarity_scores(sentence)\n",
    "    print(\"{:-<115} {}\".format(sentence, str(vs)))"
   ],
   "outputs": [
    {
     "name": "stdout",
     "output_type": "stream",
     "text": [
      "Forex trading tips: Always set stop-loss levels to manage risks.--------------------------------------------------- {'neg': 0.189, 'neu': 0.811, 'pos': 0.0, 'compound': -0.2732}\n",
      "Looking to diversify your portfolio? Forex could be an option.----------------------------------------------------- {'neg': 0.0, 'neu': 1.0, 'pos': 0.0, 'compound': 0.0}\n",
      "Today's forex analysis: USD/EUR shows bullish trends. Stay tuned!-------------------------------------------------- {'neg': 0.0, 'neu': 1.0, 'pos': 0.0, 'compound': 0.0}\n",
      "Beginner's guide to forex: Start small, learn trends, and avoid greed.--------------------------------------------- {'neg': 0.353, 'neu': 0.647, 'pos': 0.0, 'compound': -0.5994}\n",
      "Forex insight: The impact of interest rate hikes on currency pairs.------------------------------------------------ {'neg': 0.0, 'neu': 0.769, 'pos': 0.231, 'compound': 0.4588}\n",
      "Why forex trading requires discipline and strategy.---------------------------------------------------------------- {'neg': 0.0, 'neu': 1.0, 'pos': 0.0, 'compound': 0.0}\n",
      "Top 5 forex pairs to watch this week: USD/EUR, GBP/USD, and more.-------------------------------------------------- {'neg': 0.0, 'neu': 0.859, 'pos': 0.141, 'compound': 0.2023}\n",
      "Forex myths debunked: It's not a get-rich-quick scheme!------------------------------------------------------------ {'neg': 0.0, 'neu': 1.0, 'pos': 0.0, 'compound': 0.0}\n",
      "Master forex trading by understanding economic indicators.--------------------------------------------------------- {'neg': 0.0, 'neu': 1.0, 'pos': 0.0, 'compound': 0.0}\n",
      "Daily forex update: Volatility expected in GBP/USD due to market news.--------------------------------------------- {'neg': 0.0, 'neu': 1.0, 'pos': 0.0, 'compound': 0.0}\n"
     ]
    }
   ],
   "execution_count": 24
  },
  {
   "metadata": {},
   "cell_type": "code",
   "outputs": [],
   "execution_count": null,
   "source": [
    "from transformers import AutoModelForMaskedLM\n",
    "model = AutoModelForMaskedLM.from_pretrained(\"demo-org/finbert-pretrain\", use_auth_token=True)"
   ]
  }
 ],
 "metadata": {
  "kernelspec": {
   "display_name": "Python 3",
   "language": "python",
   "name": "python3"
  },
  "language_info": {
   "codemirror_mode": {
    "name": "ipython",
    "version": 2
   },
   "file_extension": ".py",
   "mimetype": "text/x-python",
   "name": "python",
   "nbconvert_exporter": "python",
   "pygments_lexer": "ipython2",
   "version": "2.7.6"
  }
 },
 "nbformat": 4,
 "nbformat_minor": 0
}
